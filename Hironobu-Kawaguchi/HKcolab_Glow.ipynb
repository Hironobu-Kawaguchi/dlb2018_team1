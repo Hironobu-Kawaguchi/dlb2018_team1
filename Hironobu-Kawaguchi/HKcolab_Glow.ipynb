{
  "nbformat": 4,
  "nbformat_minor": 0,
  "metadata": {
    "colab": {
      "name": "HKcolab_Glow.ipynb",
      "version": "0.3.2",
      "provenance": [],
      "collapsed_sections": [],
      "toc_visible": true,
      "include_colab_link": true
    },
    "kernelspec": {
      "name": "python3",
      "display_name": "Python 3"
    },
    "accelerator": "GPU"
  },
  "cells": [
    {
      "cell_type": "markdown",
      "metadata": {
        "id": "view-in-github",
        "colab_type": "text"
      },
      "source": [
        "<a href=\"https://colab.research.google.com/github/Hironobu-Kawaguchi/dlb2018_team1/blob/master/Hironobu-Kawaguchi/HKcolab_Glow.ipynb\" target=\"_parent\"><img src=\"https://colab.research.google.com/assets/colab-badge.svg\" alt=\"Open In Colab\"/></a>"
      ]
    },
    {
      "metadata": {
        "id": "3c-s_7lgfvHU",
        "colab_type": "text"
      },
      "cell_type": "markdown",
      "source": [
        "# Glow\n",
        "https://github.com/openai/glow"
      ]
    },
    {
      "metadata": {
        "id": "lJfeD5xffzUR",
        "colab_type": "code",
        "outputId": "fd84c3f2-befd-4214-a77a-da16e1b9c950",
        "colab": {
          "base_uri": "https://localhost:8080/",
          "height": 102
        }
      },
      "cell_type": "code",
      "source": [
        "!git clone https://github.com/openai/glow"
      ],
      "execution_count": 3,
      "outputs": [
        {
          "output_type": "stream",
          "text": [
            "Cloning into 'glow'...\n",
            "remote: Enumerating objects: 208, done.\u001b[K\n",
            "remote: Total 208 (delta 0), reused 0 (delta 0), pack-reused 208\u001b[K\n",
            "Receiving objects: 100% (208/208), 1.24 MiB | 1.36 MiB/s, done.\n",
            "Resolving deltas: 100% (93/93), done.\n"
          ],
          "name": "stdout"
        }
      ]
    },
    {
      "metadata": {
        "id": "lAHLeVbef7BB",
        "colab_type": "code",
        "outputId": "41c4027b-3429-4aa7-8076-a3ffe0bed092",
        "colab": {
          "base_uri": "https://localhost:8080/",
          "height": 34
        }
      },
      "cell_type": "code",
      "source": [
        "%cd glow"
      ],
      "execution_count": 4,
      "outputs": [
        {
          "output_type": "stream",
          "text": [
            "/content/glow\n"
          ],
          "name": "stdout"
        }
      ]
    },
    {
      "metadata": {
        "id": "ii67_tOhgTFp",
        "colab_type": "code",
        "colab": {}
      },
      "cell_type": "code",
      "source": [
        "#!pip install -r requirements.txt"
      ],
      "execution_count": 0,
      "outputs": []
    },
    {
      "metadata": {
        "id": "-rP4QCvkgvfx",
        "colab_type": "code",
        "colab": {}
      },
      "cell_type": "code",
      "source": [
        "#import tensorflow as tf"
      ],
      "execution_count": 0,
      "outputs": []
    },
    {
      "metadata": {
        "id": "6RK5W2iyigxW",
        "colab_type": "text"
      },
      "cell_type": "markdown",
      "source": [
        "## install horovod\n",
        "https://github.com/horovod/horovod"
      ]
    },
    {
      "metadata": {
        "id": "FktUey9Uh5q4",
        "colab_type": "code",
        "colab": {
          "base_uri": "https://localhost:8080/",
          "height": 255
        },
        "outputId": "3df9c8e4-ffa8-4445-8d7b-47d59c7b091d"
      },
      "cell_type": "code",
      "source": [
        "!pip install horovod"
      ],
      "execution_count": 6,
      "outputs": [
        {
          "output_type": "stream",
          "text": [
            "Collecting horovod\n",
            "\u001b[?25l  Downloading https://files.pythonhosted.org/packages/ac/26/50725d9cfec737b8dc796ce93acbc2eb06d289049fb5476a625481438e50/horovod-0.16.0.tar.gz (2.6MB)\n",
            "\u001b[K    100% |████████████████████████████████| 2.6MB 11.0MB/s \n",
            "\u001b[?25hRequirement already satisfied: cffi>=1.4.0 in /usr/local/lib/python3.6/dist-packages (from horovod) (1.12.2)\n",
            "Requirement already satisfied: cloudpickle in /usr/local/lib/python3.6/dist-packages (from horovod) (0.6.1)\n",
            "Requirement already satisfied: psutil in /usr/local/lib/python3.6/dist-packages (from horovod) (5.4.8)\n",
            "Requirement already satisfied: six in /usr/local/lib/python3.6/dist-packages (from horovod) (1.11.0)\n",
            "Requirement already satisfied: pycparser in /usr/local/lib/python3.6/dist-packages (from cffi>=1.4.0->horovod) (2.19)\n",
            "Building wheels for collected packages: horovod\n",
            "  Building wheel for horovod (setup.py) ... \u001b[?25ldone\n",
            "\u001b[?25h  Stored in directory: /root/.cache/pip/wheels/b2/35/08/94b578c446de19bcbb2380efead2ad579163c2cf483ca401df\n",
            "Successfully built horovod\n",
            "Installing collected packages: horovod\n",
            "Successfully installed horovod-0.16.0\n"
          ],
          "name": "stdout"
        }
      ]
    },
    {
      "metadata": {
        "id": "8Qz5cQvhizaN",
        "colab_type": "code",
        "colab": {
          "base_uri": "https://localhost:8080/",
          "height": 85
        },
        "outputId": "15349007-6392-4cce-dac7-db4621f91707"
      },
      "cell_type": "code",
      "source": [
        "!pip install toposort"
      ],
      "execution_count": 8,
      "outputs": [
        {
          "output_type": "stream",
          "text": [
            "Collecting toposort\n",
            "  Downloading https://files.pythonhosted.org/packages/e9/8a/321cd8ea5f4a22a06e3ba30ef31ec33bea11a3443eeb1d89807640ee6ed4/toposort-1.5-py2.py3-none-any.whl\n",
            "Installing collected packages: toposort\n",
            "Successfully installed toposort-1.5\n"
          ],
          "name": "stdout"
        }
      ]
    },
    {
      "metadata": {
        "id": "cGJaCXphi_wW",
        "colab_type": "text"
      },
      "cell_type": "markdown",
      "source": [
        "## Simple Train with 1 GPU\n",
        "Run wtih small depth to test"
      ]
    },
    {
      "metadata": {
        "id": "G-HycRzpgVcx",
        "colab_type": "code",
        "outputId": "ed5b79c2-c4c3-4fc5-c008-ce3519a1ee68",
        "colab": {
          "base_uri": "https://localhost:8080/",
          "height": 846
        }
      },
      "cell_type": "code",
      "source": [
        "!python train.py --depth 1"
      ],
      "execution_count": 0,
      "outputs": [
        {
          "output_type": "stream",
          "text": [
            "\n",
            "WARNING: The TensorFlow contrib module will not be included in TensorFlow 2.0.\n",
            "For more information, please see:\n",
            "  * https://github.com/tensorflow/community/blob/master/rfcs/20180907-contrib-sunset.md\n",
            "  * https://github.com/tensorflow/addons\n",
            "If you depend on functionality not listed there, please file an issue.\n",
            "\n",
            "Rank 0 Batch sizes Train 64 Test 50 Init 256\n",
            "Using TensorFlow backend.\n",
            "n_train: 50000 n_test: 10000\n",
            "n_shard_train: 50000 n_shard_test: 10000\n",
            "10000 50 1\n",
            "Train epoch size: 50048\n",
            "WARNING:tensorflow:From /usr/local/lib/python3.6/dist-packages/tensorflow/python/framework/op_def_library.py:263: colocate_with (from tensorflow.python.framework.ops) is deprecated and will be removed in a future version.\n",
            "Instructions for updating:\n",
            "Colocations handled automatically by placer.\n",
            "Creating pad 1_1_18_18\n",
            "Creating pad 1_1_10_10\n",
            "Creating pad 1_1_6_6\n",
            "WARNING:tensorflow:From /usr/local/lib/python3.6/dist-packages/tensorflow/python/ops/math_ops.py:3066: to_int32 (from tensorflow.python.ops.math_ops) is deprecated and will be removed in a future version.\n",
            "Instructions for updating:\n",
            "Use tf.cast instead.\n",
            "Namespace(anchor_size=32, beta1=0.9, category='', dal=1, data_dir=None, depth=1, direct_iterator=False, epochs=1000000, epochs_full_sample=50, epochs_full_valid=50, epochs_warmup=10, flow_coupling=0, flow_permutation=2, fmap=1, full_test_its=200, gradient_checkpointing=1, image_size=32, inference=False, learntop=False, local_batch_init=256, local_batch_test=50, local_batch_train=64, logdir='./logs', lr=0.001, n_batch_init=256, n_batch_test=50, n_batch_train=64, n_bins=256.0, n_bits_x=8, n_levels=3, n_sample=1, n_test=10000, n_train=50000, n_y=10, optimizer='adamax', pmap=16, polyak_epochs=1, problem='cifar10', restore_path='', rnd_crop=False, seed=0, test_its=157, top_shape=[4, 4, 48], train_its=782, verbose=False, weight_decay=1.0, weight_y=0.0, width=512, ycond=False)\n",
            "Starting training. Logging to /content/glow/logs/\n",
            "epoch n_processed n_images ips dtrain dtest dsample dtot train_results test_results msg\n",
            "1 50048 50048 479.9 104.3 0.0 0.7 105.0 [7.2369895 7.2369895 0.        1.       ] [] \n",
            "2 100096 100096 488.9 102.4 0.0 0.0 102.4 [6.0317397 6.0317397 0.        1.       ] [] \n",
            "3 150144 150144 488.8 102.4 0.0 0.0 102.4 [5.2165675 5.2165675 0.        1.       ] [] \n",
            "4 200192 200192 484.2 103.4 0.0 0.0 103.4 [4.934767 4.934767 0.       1.      ] [] \n",
            "5 250240 250240 481.0 104.1 0.0 0.0 104.1 [4.771938 4.771938 0.       1.      ] [] \n",
            "6 300288 300288 480.0 104.3 0.0 0.0 104.3 [4.67992 4.67992 0.      1.     ] [] \n",
            "7 350336 350336 480.5 104.2 0.0 0.0 104.2 [4.583488 4.583488 0.       1.      ] [] \n",
            "8 400384 400384 481.5 104.0 0.0 0.0 104.0 [4.524824 4.524824 0.       1.      ] [] \n",
            "9 450432 450432 488.5 102.5 0.0 0.0 102.5 [4.4626412 4.4626412 0.        1.       ] [] \n",
            "10 500480 500480 488.9 102.4 0.0 0.4 102.7 [4.406737 4.406737 0.       1.      ] [] \n",
            "20 1000960 1000960 488.7 102.4 0.0 0.0 1024.5 [4.0977545 4.0977545 0.        1.       ] [] \n",
            "30 1501440 1501440 489.9 102.2 0.0 0.0 1025.7 [3.9979007 3.9979007 0.        1.       ] [] \n",
            "40 2001920 2001920 491.3 101.9 0.0 0.0 1018.4 [3.9415696 3.9415696 0.        1.       ] [] \n",
            "50 2502400 2502400 490.7 102.0 4.8 0.4 1025.5 [3.9121647 3.9121647 0.        1.       ] [4.793481 4.793481 0.       1.      ]  *\n",
            "100 5004800 5004800 492.4 101.6 4.2 0.4 5106.2 [3.847642 3.847642 0.       1.      ] [4.7577934 4.7577934 0.        1.       ]  *\n",
            "150 7507200 7507200 488.9 102.4 4.2 0.4 5110.3 [3.8262684 3.8262684 0.        1.       ] [4.679843 4.679843 0.       1.      ]  *\n",
            "200 10009600 10009600 489.2 102.3 4.2 0.4 5124.3 [3.8123155 3.8123155 0.        1.       ] [4.728093 4.728093 0.       1.      ] \n",
            "250 12512000 12512000 489.3 102.3 4.2 0.4 5116.2 [3.8053918 3.8053918 0.        1.       ] [4.7156124 4.7156124 0.        1.       ] \n",
            "300 15014400 15014400 487.8 102.6 4.2 0.4 5124.3 [3.8032835 3.8032835 0.        1.       ] [4.7281594 4.7281594 0.        1.       ] \n",
            "350 17516800 17516800 488.8 102.4 4.2 0.4 5122.9 [3.7981691 3.7981691 0.        1.       ] [4.7209315 4.7209315 0.        1.       ] \n",
            "400 20019200 20019200 488.5 102.4 4.2 0.4 5136.8 [3.7954078 3.7954078 0.        1.       ] [4.7147803 4.7147803 0.        1.       ] \n"
          ],
          "name": "stdout"
        }
      ]
    },
    {
      "metadata": {
        "id": "VAj0c7kqg9xQ",
        "colab_type": "code",
        "colab": {}
      },
      "cell_type": "code",
      "source": [
        ""
      ],
      "execution_count": 0,
      "outputs": []
    }
  ]
}